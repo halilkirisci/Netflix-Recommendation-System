{
 "cells": [
  {
   "cell_type": "markdown",
   "id": "757931fb-780f-406f-99ae-cae85bcc4fe5",
   "metadata": {},
   "source": [
    "# Netflix Recommendation System\n",
    "\n",
    "<img src=\"https://variety.com/wp-content/uploads/2014/07/netflix-logo.jpg?w=1000&h=563&crop=1\" />\n",
    "\n",
    "## Introduction\n",
    "Netflix is a subscription-based streaming platform that recommends movies and TV shows based on user interests. This notebook demonstrates how to build a recommendation system using Python, along with an introduction to deep learning techniques for enhanced recommendations.\n",
    "\n",
    "## Dataset\n",
    "The dataset used in this example is from Kaggle and contains information about movies and TV shows on Netflix as of 2021. "
   ]
  },
  {
   "cell_type": "markdown",
   "id": "945b3d2b-1dc3-4b2f-b59a-d10381ea0cd5",
   "metadata": {},
   "source": [
    "## Libraries"
   ]
  },
  {
   "cell_type": "code",
   "execution_count": 4,
   "id": "796a04bd-6410-44d9-b7cf-95e56d9d0c7b",
   "metadata": {},
   "outputs": [],
   "source": [
    "import pandas as pd\n",
    "from sklearn.feature_extraction.text import TfidfVectorizer\n",
    "from sklearn.metrics.pairwise import cosine_similarity"
   ]
  },
  {
   "cell_type": "code",
   "execution_count": 5,
   "id": "556c5e8b-7a19-4a8f-9ed5-777c7cdd2334",
   "metadata": {},
   "outputs": [],
   "source": [
    "data = pd.read_csv(\"netflixData.csv\")"
   ]
  },
  {
   "cell_type": "markdown",
   "id": "b8588a03-2665-4912-997d-1e9290f406a6",
   "metadata": {},
   "source": [
    "## EDA"
   ]
  },
  {
   "cell_type": "code",
   "execution_count": 9,
   "id": "8d4591b6-b168-482c-8ca8-922f5fb0e756",
   "metadata": {},
   "outputs": [
    {
     "name": "stdout",
     "output_type": "stream",
     "text": [
      "<class 'pandas.core.frame.DataFrame'>\n",
      "RangeIndex: 5967 entries, 0 to 5966\n",
      "Data columns (total 13 columns):\n",
      " #   Column              Non-Null Count  Dtype  \n",
      "---  ------              --------------  -----  \n",
      " 0   Show Id             5967 non-null   object \n",
      " 1   Title               5967 non-null   object \n",
      " 2   Description         5967 non-null   object \n",
      " 3   Director            3903 non-null   object \n",
      " 4   Genres              5967 non-null   object \n",
      " 5   Cast                5437 non-null   object \n",
      " 6   Production Country  5408 non-null   object \n",
      " 7   Release Date        5964 non-null   float64\n",
      " 8   Rating              5963 non-null   object \n",
      " 9   Duration            5964 non-null   object \n",
      " 10  Imdb Score          5359 non-null   object \n",
      " 11  Content Type        5967 non-null   object \n",
      " 12  Date Added          4632 non-null   object \n",
      "dtypes: float64(1), object(12)\n",
      "memory usage: 606.2+ KB\n"
     ]
    },
    {
     "data": {
      "text/plain": [
       "(                                Show Id                          Title  \\\n",
       " 0  cc1b6ed9-cf9e-4057-8303-34577fb54477                       (Un)Well   \n",
       " 1  e2ef4e91-fb25-42ab-b485-be8e3b23dedb                         #Alive   \n",
       " 2  b01b73b7-81f6-47a7-86d8-acb63080d525  #AnneFrank - Parallel Stories   \n",
       " 3  b6611af0-f53c-4a08-9ffa-9716dc57eb9c                       #blackAF   \n",
       " 4  7f2d4170-bab8-4d75-adc2-197f7124c070               #cats_the_mewvie   \n",
       " \n",
       "                                          Description  \\\n",
       " 0  This docuseries takes a deep dive into the luc...   \n",
       " 1  As a grisly virus rampages a city, a lone man ...   \n",
       " 2  Through her diary, Anne Frank's story is retol...   \n",
       " 3  Kenya Barris and his family navigate relations...   \n",
       " 4  This pawesome documentary explores how our fel...   \n",
       " \n",
       "                       Director  \\\n",
       " 0                          NaN   \n",
       " 1                       Cho Il   \n",
       " 2  Sabina Fedeli, Anna Migotto   \n",
       " 3                          NaN   \n",
       " 4             Michael Margolis   \n",
       " \n",
       "                                            Genres  \\\n",
       " 0                                      Reality TV   \n",
       " 1  Horror Movies, International Movies, Thrillers   \n",
       " 2             Documentaries, International Movies   \n",
       " 3                                     TV Comedies   \n",
       " 4             Documentaries, International Movies   \n",
       " \n",
       "                                                 Cast Production Country  \\\n",
       " 0                                                NaN      United States   \n",
       " 1                           Yoo Ah-in, Park Shin-hye        South Korea   \n",
       " 2                        Helen Mirren, Gengher Gatti              Italy   \n",
       " 3  Kenya Barris, Rashida Jones, Iman Benson, Genn...      United States   \n",
       " 4                                                NaN             Canada   \n",
       " \n",
       "    Release Date Rating  Duration Imdb Score Content Type         Date Added  \n",
       " 0        2020.0  TV-MA  1 Season     6.6/10      TV Show                NaN  \n",
       " 1        2020.0  TV-MA    99 min     6.2/10        Movie  September 8, 2020  \n",
       " 2        2019.0  TV-14    95 min     6.4/10        Movie       July 1, 2020  \n",
       " 3        2020.0  TV-MA  1 Season     6.6/10      TV Show                NaN  \n",
       " 4        2020.0  TV-14    90 min     5.1/10        Movie   February 5, 2020  ,\n",
       "                                    Show Id                Title  \\\n",
       " 5962  62b8b682-f191-4c10-aa04-32319329bd8d            الف مبروك   \n",
       " 5963  5bed77ab-5e31-4216-8b51-44c9a35442e6         دفعة القاهرة   \n",
       " 5964  4661ec0c-8692-4661-bc76-a96412b311fd                 海的儿子   \n",
       " 5965  145c93a7-1924-403c-a933-4ede8ad66f26              반드시 잡는다   \n",
       " 5966  d4613d34-cb71-4bd6-b570-fa857f02c44d  최강전사 미니특공대 : 영웅의 탄생   \n",
       " \n",
       "                                             Description           Director  \\\n",
       " 5962  On his wedding day, an arrogant, greedy accoun...  Ahmed Nader Galal   \n",
       " 5963  A group of women leaves Kuwait to attend unive...                NaN   \n",
       " 5964  Two brothers start a new life in Singapore, wh...                NaN   \n",
       " 5965  After people in his town start turning up dead...      Hong-seon Kim   \n",
       " 5966  Miniforce, a special task force of elite range...      Young Jun Lee   \n",
       " \n",
       "                                        Genres  \\\n",
       " 5962   Comedies, Dramas, International Movies   \n",
       " 5963        International TV Shows, TV Dramas   \n",
       " 5964        International TV Shows, TV Dramas   \n",
       " 5965  Dramas, International Movies, Thrillers   \n",
       " 5966                 Children & Family Movies   \n",
       " \n",
       "                                                    Cast Production Country  \\\n",
       " 5962  Ahmed Helmy, Laila Ezz El Arab, Mahmoud El Fis...              Egypt   \n",
       " 5963  Bashar al-Shatti, Fatima Al Safi, Maram Baloch...                NaN   \n",
       " 5964  Li Nanxing, Christopher Lee, Jesseca Liu, Appl...                NaN   \n",
       " 5965                                      Baek Yoon-sik        South Korea   \n",
       " 5966  Um Sang-hyun, Yang Jeong-hwa, Jeon Tae-yeol, S...                NaN   \n",
       " \n",
       "       Release Date Rating  Duration Imdb Score Content Type         Date Added  \n",
       " 5962        2009.0  TV-14   115 min     7.4/10        Movie     April 25, 2020  \n",
       " 5963        2019.0  TV-14  1 Season        NaN      TV Show                NaN  \n",
       " 5964        2016.0  TV-14  1 Season        NaN      TV Show                NaN  \n",
       " 5965        2017.0  TV-MA   110 min     6.5/10        Movie  February 28, 2018  \n",
       " 5966        2018.0  TV-Y7    68 min     4.7/10        Movie  September 1, 2018  ,\n",
       " (5967, 13),\n",
       " None)"
      ]
     },
     "execution_count": 9,
     "metadata": {},
     "output_type": "execute_result"
    }
   ],
   "source": [
    "data.head(), data.tail(), data.shape, data.info()"
   ]
  },
  {
   "cell_type": "code",
   "execution_count": 8,
   "id": "2adfa81b-2a6c-492d-a3ec-5a1b440aa8b5",
   "metadata": {},
   "outputs": [],
   "source": [
    "# Drop null values and select relevant columns\n",
    "data = data[[\"Title\", \"Description\", \"Genres\"]].dropna()\n",
    "\n",
    "# Clean the Title column\n",
    "import re\n",
    "import string\n",
    "\n",
    "def clean(text):\n",
    "    text = str(text).lower()\n",
    "    text = re.sub('[%s]' % re.escape(string.punctuation), '', text)\n",
    "    return text\n",
    "\n",
    "data[\"Title\"] = data[\"Title\"].apply(clean)"
   ]
  },
  {
   "cell_type": "markdown",
   "id": "75e253c8-9001-4dd5-8a11-5ea3dfc3c3ad",
   "metadata": {},
   "source": [
    "## Deep Learning"
   ]
  },
  {
   "cell_type": "code",
   "execution_count": 10,
   "id": "3cc0c19b-2aeb-44da-85eb-d64acc2891a0",
   "metadata": {},
   "outputs": [],
   "source": [
    "import numpy as np\n",
    "import tensorflow as tf\n",
    "from tensorflow import keras\n",
    "from sklearn.preprocessing import LabelEncoder"
   ]
  },
  {
   "cell_type": "code",
   "execution_count": 11,
   "id": "f34611ce-b6ae-4e25-bc83-4d5fd2bcf686",
   "metadata": {},
   "outputs": [],
   "source": [
    "# Encode user and item IDs\n",
    "user_encoder = LabelEncoder()\n",
    "item_encoder = LabelEncoder()\n",
    "\n",
    "data['user_id'] = user_encoder.fit_transform(data['Title'])\n",
    "data['item_id'] = item_encoder.fit_transform(data['Genres'])\n",
    "\n",
    "# Prepare training data\n",
    "X = data[['user_id', 'item_id']].values\n",
    "y = np.random.rand(len(X))  # Placeholder for interaction scores"
   ]
  },
  {
   "cell_type": "code",
   "execution_count": 36,
   "id": "20c41752-0b46-4297-818d-1fd380cd9f72",
   "metadata": {},
   "outputs": [
    {
     "name": "stderr",
     "output_type": "stream",
     "text": [
      "C:\\ProgramData\\anaconda3\\Lib\\site-packages\\keras\\src\\layers\\core\\embedding.py:90: UserWarning: Argument `input_length` is deprecated. Just remove it.\n",
      "  warnings.warn(\n"
     ]
    }
   ],
   "source": [
    "# Build the model\n",
    "model = keras.Sequential([\n",
    "    keras.layers.Embedding(input_dim=len(user_encoder.classes_), output_dim=50, input_length=1),\n",
    "    keras.layers.Flatten(),\n",
    "    keras.layers.Dense(128, activation='relu'),\n",
    "    keras.layers.Dense(1)\n",
    "])\n",
    "\n",
    "model.compile(optimizer='adam', loss='mean_squared_error')"
   ]
  },
  {
   "cell_type": "code",
   "execution_count": 22,
   "id": "8e27198d-d2e3-47fa-b31c-398304251778",
   "metadata": {
    "scrolled": true
   },
   "outputs": [
    {
     "name": "stdout",
     "output_type": "stream",
     "text": [
      "Epoch 1/5\n",
      "\u001b[1m187/187\u001b[0m \u001b[32m━━━━━━━━━━━━━━━━━━━━\u001b[0m\u001b[37m\u001b[0m \u001b[1m1s\u001b[0m 970us/step - loss: 0.1539\n",
      "Epoch 2/5\n",
      "\u001b[1m187/187\u001b[0m \u001b[32m━━━━━━━━━━━━━━━━━━━━\u001b[0m\u001b[37m\u001b[0m \u001b[1m0s\u001b[0m 889us/step - loss: 0.0530\n",
      "Epoch 3/5\n",
      "\u001b[1m187/187\u001b[0m \u001b[32m━━━━━━━━━━━━━━━━━━━━\u001b[0m\u001b[37m\u001b[0m \u001b[1m0s\u001b[0m 966us/step - loss: 0.0173\n",
      "Epoch 4/5\n",
      "\u001b[1m187/187\u001b[0m \u001b[32m━━━━━━━━━━━━━━━━━━━━\u001b[0m\u001b[37m\u001b[0m \u001b[1m0s\u001b[0m 891us/step - loss: 0.0072\n",
      "Epoch 5/5\n",
      "\u001b[1m187/187\u001b[0m \u001b[32m━━━━━━━━━━━━━━━━━━━━\u001b[0m\u001b[37m\u001b[0m \u001b[1m0s\u001b[0m 968us/step - loss: 0.0052\n"
     ]
    },
    {
     "data": {
      "text/plain": [
       "<keras.src.callbacks.history.History at 0x2112dab0c90>"
      ]
     },
     "execution_count": 22,
     "metadata": {},
     "output_type": "execute_result"
    }
   ],
   "source": [
    "model.fit(X, y, epochs=5)"
   ]
  },
  {
   "cell_type": "code",
   "execution_count": 14,
   "id": "9616b172-c349-4a5f-9a50-ab530fddcf7e",
   "metadata": {},
   "outputs": [],
   "source": [
    "# Function to predict ratings\n",
    "def predict_rating(user_id, item_id):\n",
    "    return model.predict(np.array([[user_id, item_id]]))"
   ]
  },
  {
   "cell_type": "code",
   "execution_count": 32,
   "id": "586980c6-a791-48e4-9abd-b358f3b18144",
   "metadata": {},
   "outputs": [
    {
     "data": {
      "text/html": [
       "<div>\n",
       "<style scoped>\n",
       "    .dataframe tbody tr th:only-of-type {\n",
       "        vertical-align: middle;\n",
       "    }\n",
       "\n",
       "    .dataframe tbody tr th {\n",
       "        vertical-align: top;\n",
       "    }\n",
       "\n",
       "    .dataframe thead th {\n",
       "        text-align: right;\n",
       "    }\n",
       "</style>\n",
       "<table border=\"1\" class=\"dataframe\">\n",
       "  <thead>\n",
       "    <tr style=\"text-align: right;\">\n",
       "      <th></th>\n",
       "      <th>Title</th>\n",
       "      <th>user_id</th>\n",
       "    </tr>\n",
       "  </thead>\n",
       "  <tbody>\n",
       "    <tr>\n",
       "      <th>0</th>\n",
       "      <td>unwell</td>\n",
       "      <td>5548</td>\n",
       "    </tr>\n",
       "    <tr>\n",
       "      <th>1</th>\n",
       "      <td>alive</td>\n",
       "      <td>270</td>\n",
       "    </tr>\n",
       "    <tr>\n",
       "      <th>2</th>\n",
       "      <td>annefrank  parallel stories</td>\n",
       "      <td>371</td>\n",
       "    </tr>\n",
       "    <tr>\n",
       "      <th>3</th>\n",
       "      <td>blackaf</td>\n",
       "      <td>690</td>\n",
       "    </tr>\n",
       "    <tr>\n",
       "      <th>4</th>\n",
       "      <td>catsthemewvie</td>\n",
       "      <td>898</td>\n",
       "    </tr>\n",
       "    <tr>\n",
       "      <th>...</th>\n",
       "      <td>...</td>\n",
       "      <td>...</td>\n",
       "    </tr>\n",
       "    <tr>\n",
       "      <th>5962</th>\n",
       "      <td>الف مبروك</td>\n",
       "      <td>5883</td>\n",
       "    </tr>\n",
       "    <tr>\n",
       "      <th>5963</th>\n",
       "      <td>دفعة القاهرة</td>\n",
       "      <td>5884</td>\n",
       "    </tr>\n",
       "    <tr>\n",
       "      <th>5964</th>\n",
       "      <td>海的儿子</td>\n",
       "      <td>5890</td>\n",
       "    </tr>\n",
       "    <tr>\n",
       "      <th>5965</th>\n",
       "      <td>반드시 잡는다</td>\n",
       "      <td>5891</td>\n",
       "    </tr>\n",
       "    <tr>\n",
       "      <th>5966</th>\n",
       "      <td>최강전사 미니특공대  영웅의 탄생</td>\n",
       "      <td>5892</td>\n",
       "    </tr>\n",
       "  </tbody>\n",
       "</table>\n",
       "<p>5967 rows × 2 columns</p>\n",
       "</div>"
      ],
      "text/plain": [
       "                            Title  user_id\n",
       "0                          unwell     5548\n",
       "1                           alive      270\n",
       "2     annefrank  parallel stories      371\n",
       "3                         blackaf      690\n",
       "4                   catsthemewvie      898\n",
       "...                           ...      ...\n",
       "5962                    الف مبروك     5883\n",
       "5963                 دفعة القاهرة     5884\n",
       "5964                         海的儿子     5890\n",
       "5965                      반드시 잡는다     5891\n",
       "5966           최강전사 미니특공대  영웅의 탄생     5892\n",
       "\n",
       "[5967 rows x 2 columns]"
      ]
     },
     "execution_count": 32,
     "metadata": {},
     "output_type": "execute_result"
    }
   ],
   "source": [
    "data[[\"Title\",\"user_id\"]]"
   ]
  },
  {
   "cell_type": "code",
   "execution_count": 40,
   "id": "68dc9253-6a11-4931-9580-506da7c0a4b7",
   "metadata": {},
   "outputs": [
    {
     "name": "stdout",
     "output_type": "stream",
     "text": [
      "\u001b[1m1/1\u001b[0m \u001b[32m━━━━━━━━━━━━━━━━━━━━\u001b[0m\u001b[37m\u001b[0m \u001b[1m0s\u001b[0m 38ms/step\n"
     ]
    },
    {
     "data": {
      "text/plain": [
       "array([[0.01620382]], dtype=float32)"
      ]
     },
     "execution_count": 40,
     "metadata": {},
     "output_type": "execute_result"
    }
   ],
   "source": [
    "predict_rating(user_encoder.transform([\"alive\"])[0], item_encoder.transform([\"Horror Movies\"])[0])"
   ]
  },
  {
   "cell_type": "code",
   "execution_count": null,
   "id": "e18bb67f-da26-40b4-ba99-9ef07d5961b4",
   "metadata": {},
   "outputs": [],
   "source": []
  }
 ],
 "metadata": {
  "kernelspec": {
   "display_name": "Python 3 (ipykernel)",
   "language": "python",
   "name": "python3"
  },
  "language_info": {
   "codemirror_mode": {
    "name": "ipython",
    "version": 3
   },
   "file_extension": ".py",
   "mimetype": "text/x-python",
   "name": "python",
   "nbconvert_exporter": "python",
   "pygments_lexer": "ipython3",
   "version": "3.11.7"
  }
 },
 "nbformat": 4,
 "nbformat_minor": 5
}
